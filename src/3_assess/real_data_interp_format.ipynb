{
 "cells": [
  {
   "cell_type": "code",
   "execution_count": 1,
   "id": "f821d1cb",
   "metadata": {},
   "outputs": [],
   "source": [
    "%matplotlib inline\n",
    "\n",
    "from IPython.core.interactiveshell import InteractiveShell\n",
    "InteractiveShell.ast_node_interactivity = \"all\"\n",
    "\n",
    "%load_ext autoreload\n",
    "%autoreload 2"
   ]
  },
  {
   "cell_type": "code",
   "execution_count": 2,
   "id": "945fdcfe",
   "metadata": {},
   "outputs": [],
   "source": [
    "# interp_metrics\n",
    "from scipy import stats\n",
    "import pandas as pd\n",
    "import matplotlib.pyplot as plt\n",
    "import statistics, math, matplotlib\n",
    "import seaborn as sns\n",
    "from itertools import combinations"
   ]
  },
  {
   "cell_type": "code",
   "execution_count": 3,
   "id": "147b9c88",
   "metadata": {},
   "outputs": [],
   "source": [
    "# Directories\n",
    "## Logistic Regression\n",
    "lr_dir = '../../data/gsea_table2/lr/pathway_level_data_snps72819/'\n",
    "\n",
    "## Random Forest\n",
    "rf_dir = '../../data/gsea_table2/rf/pathway_level_data_snps72819/'\n"
   ]
  },
  {
   "cell_type": "code",
   "execution_count": 4,
   "id": "954358f0",
   "metadata": {},
   "outputs": [],
   "source": [
    "# Utility functions\n",
    "def center_scale(l):\n",
    "    cs_l = []\n",
    "    for val in l:\n",
    "        cs_l.append((val - statistics.mean(l))/statistics.pstdev(l))\n",
    "    return(cs_l)\n",
    "\n",
    "# def qq_plot(l, method):\n",
    "#     stats.probplot(l, dist=\"norm\", plot=plt)\n",
    "#     plt.title(\"%s Method Q-Q Plot\"%(method))\n",
    "#     print(\"Shapiro-Wilk test for normality (W-test,p-val):\", stats.shapiro(l))\n",
    "#     plt.show()\n",
    "    \n",
    "# def calc_KT(la, lb):\n",
    "#     # tau = (P - Q) / sqrt((P + Q + T) * (P + Q + U)) \n",
    "#     return(stats.kendalltau(la, lb))"
   ]
  },
  {
   "cell_type": "code",
   "execution_count": 5,
   "id": "e9201adb",
   "metadata": {},
   "outputs": [],
   "source": [
    "# Upload files\n",
    "df_lr_gsea = pd.DataFrame()\n",
    "df_rf_gsea = pd.DataFrame()\n",
    "for seed in range(5):\n",
    "    clr_gsea = pd.read_csv(lr_dir + 'GSEA_s{}_ord_enrichmentScore_coefs.csv'.format(seed), usecols=[\"Description\", \"qvalues\"]).set_index('Description')\n",
    "    clr_gsea.columns = ['qvalues_{}'.format(seed)]\n",
    "    \n",
    "    crf_gsea = pd.read_csv(rf_dir + 'GSEA_s{}_ord_enrichmentScore_coefs.csv'.format(seed), usecols=[\"Description\", \"qvalues\"]).set_index('Description')\n",
    "    crf_gsea.columns = ['qvalues_{}'.format(seed)]\n",
    "    \n",
    "    df_lr_gsea = df_lr_gsea.join(clr_gsea, how='outer')\n",
    "    df_rf_gsea = df_rf_gsea.join(crf_gsea, how='outer')\n",
    "\n",
    "df_lr_gsea['qvalues_mean'] = df_lr_gsea.mean(axis=1)\n",
    "df_rf_gsea['qvalues_mean'] = df_rf_gsea.mean(axis=1)\n",
    "\n",
    "overlap_pathways = set(df_lr_gsea.index)&set(df_rf_gsea.index)\n",
    "df_lr_gsea = df_lr_gsea.loc[overlap_pathways]\n",
    "df_rf_gsea = df_rf_gsea.loc[overlap_pathways]\n",
    "\n",
    "df_lr_gsea.sort_values(by=['qvalues_mean'], inplace=True, ascending=True)\n",
    "df_rf_gsea.sort_values(by=['qvalues_mean'], inplace=True, ascending=True)\n",
    "\n",
    "assert len(df_lr_gsea.index)==len(df_rf_gsea.index), 'check pathways are identical'\n",
    "df_rand_control = df_lr_gsea.sample(frac=1)"
   ]
  },
  {
   "cell_type": "markdown",
   "id": "f6697433",
   "metadata": {},
   "source": [
    "# Ranked search terms"
   ]
  },
  {
   "cell_type": "code",
   "execution_count": 6,
   "id": "9fde77fd",
   "metadata": {},
   "outputs": [
    {
     "name": "stdout",
     "output_type": "stream",
     "text": [
      "AUTOANTIBODY\n",
      "  Logistic Regression\n",
      "  Random Forest\n",
      "  Random Control\n",
      "AUTOIMMUNE\n",
      "  Logistic Regression\n",
      "  Random Forest\n",
      "  Random Control\n",
      "IMMUNE\n",
      "  Logistic Regression\n",
      "   Logistic Regression 328\n",
      "  Random Forest\n",
      "   Random Forest 41\n",
      "  Random Control\n",
      "   Random Control 70\n",
      "DIABETES\n",
      "  Logistic Regression\n",
      "  Random Forest\n",
      "  Random Control\n",
      "INSULIN-DEPENDENT\n",
      "  Logistic Regression\n",
      "  Random Forest\n",
      "  Random Control\n",
      "JUVENILE-ONSET\n",
      "  Logistic Regression\n",
      "  Random Forest\n",
      "  Random Control\n",
      "TYPE_1\n",
      "  Logistic Regression\n",
      "  Random Forest\n",
      "  Random Control\n",
      "BASAL\n",
      "  Logistic Regression\n",
      "  Random Forest\n",
      "  Random Control\n",
      "BOLUS\n",
      "  Logistic Regression\n",
      "  Random Forest\n",
      "  Random Control\n",
      "INSULIN\n",
      "  Logistic Regression\n",
      "   Logistic Regression 41\n",
      "  Random Forest\n",
      "   Random Forest 46\n",
      "  Random Control\n",
      "   Random Control 345\n",
      "ENDOCRINE\n",
      "  Logistic Regression\n",
      "  Random Forest\n",
      "  Random Control\n",
      "AMPK\n",
      "  Logistic Regression\n",
      "   Logistic Regression 456\n",
      "  Random Forest\n",
      "   Random Forest 456\n",
      "  Random Control\n",
      "   Random Control 318\n",
      "PPAR\n",
      "  Logistic Regression\n",
      "   Logistic Regression 195\n",
      "  Random Forest\n",
      "   Random Forest 228\n",
      "  Random Control\n",
      "   Random Control 99\n",
      "RAS\n",
      "  Logistic Regression\n",
      "   Logistic Regression 42\n",
      "  Random Forest\n",
      "   Random Forest 53\n",
      "  Random Control\n",
      "   Random Control 205\n",
      "MEK\n",
      "  Logistic Regression\n",
      "  Random Forest\n",
      "  Random Control\n",
      "ERK\n",
      "  Logistic Regression\n",
      "   Logistic Regression 155\n",
      "  Random Forest\n",
      "   Random Forest 132\n",
      "  Random Control\n",
      "   Random Control 173\n",
      "LEPTIN\n",
      "  Logistic Regression\n",
      "   Logistic Regression 146\n",
      "  Random Forest\n",
      "   Random Forest 179\n",
      "  Random Control\n",
      "   Random Control 346\n",
      "CHREBP\n",
      "  Logistic Regression\n",
      "   Logistic Regression 284\n",
      "  Random Forest\n",
      "   Random Forest 288\n",
      "  Random Control\n",
      "   Random Control 318\n",
      "PGC1A\n",
      "  Logistic Regression\n",
      "   Logistic Regression 675\n",
      "  Random Forest\n",
      "   Random Forest 675\n",
      "  Random Control\n",
      "   Random Control 108\n",
      "PANCREATIC\n",
      "  Logistic Regression\n",
      "   Logistic Regression 604\n",
      "  Random Forest\n",
      "   Random Forest 604\n",
      "  Random Control\n",
      "   Random Control 463\n"
     ]
    }
   ],
   "source": [
    "# Resources: https://www.webmd.com/diabetes/diabetes-glossary-terms\n",
    "#            https://www.endocrineweb.com/conditions/diabetes/diabetes-glossary\n",
    "#            GOOGLED \"Canonical pathways CP Msigdb diabetes\" and used words where \n",
    "#                    descriptor/definition had diabetes in the name\n",
    "\n",
    "# NOTE: CHREBP IS LINKED WITH TYEP 2 DIABETES\n",
    "list_terms = [\"AUTOANTIBODY\", \"AUTOIMMUNE\", \"IMMUNE\", \"DIABETES\", \"INSULIN-DEPENDENT\", \n",
    "              \"JUVENILE-ONSET\", \"TYPE_1\", \"BASAL\", \"BOLUS\", \"INSULIN\", \"ENDOCRINE\",\n",
    "             \"AMPK\", \"PPAR\", \"RAS\", \"MEK\", \"ERK\", \"LEPTIN\", \"CHREBP\", \"PGC1A\", \n",
    "              \"PANCREATIC\"] \n",
    "\n",
    "list_method_names = ['Logistic Regression', 'Random Forest', 'Random Control']\n",
    "pathway_name_lists = [df_lr_gsea.index.to_list(),df_rf_gsea.index.to_list(), df_rand_control.index.to_list()]\n",
    "\n",
    "df_search_term_rank = pd.DataFrame(float('nan'), index=list_terms, columns=list_method_names)\n",
    "\n",
    "for term in list_terms:    \n",
    "    print(term)\n",
    "    for method_name, rank in zip(list_method_names, pathway_name_lists):\n",
    "        print(\" \",method_name)\n",
    "        #index = [idx for idx, s in enumerate(rank) if term in s][0]\n",
    "        found=0\n",
    "        for idx, s in enumerate(rank):\n",
    "            #print(idx, s)\n",
    "            if (term in s or term.lower() in s) and found==0:\n",
    "                found=1\n",
    "                print(\"  \", method_name, idx)\n",
    "                df_search_term_rank[method_name][term] = idx"
   ]
  },
  {
   "cell_type": "code",
   "execution_count": 7,
   "id": "c9b40c80",
   "metadata": {},
   "outputs": [
    {
     "name": "stdout",
     "output_type": "stream",
     "text": [
      "          term             variable  value\n",
      "2       IMMUNE  Logistic Regression  328.0\n",
      "9      INSULIN  Logistic Regression   41.0\n",
      "11        AMPK  Logistic Regression  456.0\n",
      "12        PPAR  Logistic Regression  195.0\n",
      "13         RAS  Logistic Regression   42.0\n",
      "15         ERK  Logistic Regression  155.0\n",
      "16      LEPTIN  Logistic Regression  146.0\n",
      "17      CHREBP  Logistic Regression  284.0\n",
      "18       PGC1A  Logistic Regression  675.0\n",
      "19  PANCREATIC  Logistic Regression  604.0\n",
      "22      IMMUNE        Random Forest   41.0\n",
      "29     INSULIN        Random Forest   46.0\n",
      "31        AMPK        Random Forest  456.0\n",
      "32        PPAR        Random Forest  228.0\n",
      "33         RAS        Random Forest   53.0\n",
      "35         ERK        Random Forest  132.0\n",
      "36      LEPTIN        Random Forest  179.0\n",
      "37      CHREBP        Random Forest  288.0\n",
      "38       PGC1A        Random Forest  675.0\n",
      "39  PANCREATIC        Random Forest  604.0\n",
      "42      IMMUNE       Random Control   70.0\n",
      "49     INSULIN       Random Control  345.0\n",
      "51        AMPK       Random Control  318.0\n",
      "52        PPAR       Random Control   99.0\n",
      "53         RAS       Random Control  205.0\n",
      "55         ERK       Random Control  173.0\n",
      "56      LEPTIN       Random Control  346.0\n",
      "57      CHREBP       Random Control  318.0\n",
      "58       PGC1A       Random Control  108.0\n",
      "59  PANCREATIC       Random Control  463.0\n"
     ]
    }
   ],
   "source": [
    "df_search_term_rank=df_search_term_rank.dropna(axis=1, how='all')\n",
    "\n",
    "df_search_term_rank_cent_scaled = df_search_term_rank.apply(center_scale, axis=0)\n",
    "\n",
    "# Format for plotting\n",
    "max_rank = df_search_term_rank.max().max()+10\n",
    "df_search_term_rank['term'] = df_search_term_rank.index\n",
    "\n",
    "# Reformatting counts to plot\n",
    "df_search_term_rank_reformatted = df_search_term_rank.melt(id_vars = 'term').dropna()\n",
    "# df_search_term_rank_NO_LR_reformatted = df_search_term_rank_NO_LR.melt(id_vars = 'term').dropna()\n",
    "\n",
    "# all non-NA terms\n",
    "with pd.option_context('display.max_rows', None, 'display.max_columns', None):  # more options can be specified also\n",
    "    print(df_search_term_rank_reformatted)"
   ]
  },
  {
   "cell_type": "code",
   "execution_count": 11,
   "id": "9046812e",
   "metadata": {},
   "outputs": [],
   "source": [
    "df_search_term_rank.to_csv('../../data/df_search_term_rank.csv')\n",
    "df_search_term_rank_reformatted.to_csv('../../data/df_search_term_rank_reformatted.csv')"
   ]
  },
  {
   "cell_type": "code",
   "execution_count": 8,
   "id": "3d6ebc09",
   "metadata": {
    "scrolled": false
   },
   "outputs": [
    {
     "data": {
      "text/plain": [
       "<matplotlib.lines.Line2D at 0x7ff750ea7b80>"
      ]
     },
     "execution_count": 8,
     "metadata": {},
     "output_type": "execute_result"
    },
    {
     "data": {
      "text/plain": [
       "<Axes:>"
      ]
     },
     "execution_count": 8,
     "metadata": {},
     "output_type": "execute_result"
    },
    {
     "data": {
      "text/plain": [
       "<Axes:xlabel='variable', ylabel='value'>"
      ]
     },
     "execution_count": 8,
     "metadata": {},
     "output_type": "execute_result"
    },
    {
     "data": {
      "text/plain": [
       "<matplotlib.legend.Legend at 0x7ff751bbbd90>"
      ]
     },
     "execution_count": 8,
     "metadata": {},
     "output_type": "execute_result"
    },
    {
     "data": {
      "text/plain": [
       "(685.0, -20.0)"
      ]
     },
     "execution_count": 8,
     "metadata": {},
     "output_type": "execute_result"
    },
    {
     "data": {
      "text/plain": [
       "(array([0, 1, 2]),\n",
       " [Text(0, 0, 'Logistic Regression'),\n",
       "  Text(1, 0, 'Random Forest'),\n",
       "  Text(2, 0, 'Random Control')])"
      ]
     },
     "execution_count": 8,
     "metadata": {},
     "output_type": "execute_result"
    },
    {
     "data": {
      "text/plain": [
       "Text(0, -5, 'n: 10')"
      ]
     },
     "execution_count": 8,
     "metadata": {},
     "output_type": "execute_result"
    },
    {
     "data": {
      "text/plain": [
       "Text(1, -5, 'n: 10')"
      ]
     },
     "execution_count": 8,
     "metadata": {},
     "output_type": "execute_result"
    },
    {
     "data": {
      "text/plain": [
       "Text(2, -5, 'n: 10')"
      ]
     },
     "execution_count": 8,
     "metadata": {},
     "output_type": "execute_result"
    },
    {
     "data": {
      "image/png": "[encoded data removed]",
      "text/plain": [
       "<Figure size 2016x864 with 1 Axes>"
      ]
     },
     "metadata": {
      "needs_background": "light"
     },
     "output_type": "display_data"
    }
   ],
   "source": [
    "# Plot centered and scaled ranks\n",
    "fig = plt.figure(figsize =(28, 12))\n",
    "ax = fig.add_axes([0, 0, 1, 1])\n",
    "matplotlib.rcParams.update({'font.size': 20})\n",
    "\n",
    "# plt.xticks([1, 2, 3], list_method_names)\n",
    "# ax.set_title('Centered and Scaled Method Ranks')\n",
    "# ax.set_xlabel('lists')\n",
    "#ax.set_ylim(-2,100)\n",
    "# ax.set_ylabel('centered and scaled ranks')\n",
    "\n",
    "ypoints = 0.2\n",
    "plt.axhline(ypoints, 0, 1, label='perfect rank', color='grey', linestyle='dashed')\n",
    "\n",
    "sns.boxplot(data=df_search_term_rank, boxprops=dict(alpha=.4))\n",
    "sns.swarmplot(data=df_search_term_rank_reformatted, x=\"variable\",y=\"value\", size=16, hue=\"term\", edgecolors='b')\n",
    "\n",
    "plt.legend(loc='lower left')\n",
    "plt.ylim(math.ceil(max_rank), -20)\n",
    "plt.xticks(rotation=30)\n",
    "\n",
    "# Calculate number of obs per group & median to position labels\n",
    "medians = df_search_term_rank_reformatted.groupby(['variable'])['value'].median().values# df.groupby(['species'])['sepal_length'].median().values\n",
    "nobs = df_search_term_rank_reformatted['variable'].value_counts().values # df['species'].value_counts().values\n",
    "nobs = [str(x) for x in nobs.tolist()]\n",
    "nobs = [\"n: \" + i for i in nobs]\n",
    " \n",
    "# Add it to the plot\n",
    "pos = range(len(nobs))\n",
    "for tick,label in zip(pos,ax.get_xticklabels()):\n",
    "    ax.text(pos[tick],\n",
    "            -5,\n",
    "            nobs[tick],\n",
    "            horizontalalignment='center',\n",
    "            size='medium',\n",
    "            color='black',\n",
    "            weight='bold')\n",
    "    \n",
    "# for i, language in enumerate (languages):\n",
    "#     plt.text(avg_salary[i]+0.2, candidates[i]+0.2, language)"
   ]
  }
 ],
 "metadata": {
  "kernelspec": {
   "display_name": "Python [conda env:metabolomics_als]",
   "language": "python",
   "name": "conda-env-metabolomics_als-py"
  },
  "language_info": {
   "codemirror_mode": {
    "name": "ipython",
    "version": 3
   },
   "file_extension": ".py",
   "mimetype": "text/x-python",
   "name": "python",
   "nbconvert_exporter": "python",
   "pygments_lexer": "ipython3",
   "version": "3.9.7"
  }
 },
 "nbformat": 4,
 "nbformat_minor": 5
}
